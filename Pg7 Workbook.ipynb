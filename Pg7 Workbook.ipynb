{
 "cells": [
  {
   "cell_type": "code",
   "execution_count": 2,
   "metadata": {},
   "outputs": [],
   "source": [
    "import pandas as pd\n",
    "Location = \"datasets/all_040_in_24.P1.csv\"\n",
    "df = pd.read_csv(Location, header=None)"
   ]
  },
  {
   "cell_type": "code",
   "execution_count": 3,
   "metadata": {},
   "outputs": [
    {
     "data": {
      "text/html": [
       "<div>\n",
       "<style scoped>\n",
       "    .dataframe tbody tr th:only-of-type {\n",
       "        vertical-align: middle;\n",
       "    }\n",
       "\n",
       "    .dataframe tbody tr th {\n",
       "        vertical-align: top;\n",
       "    }\n",
       "\n",
       "    .dataframe thead th {\n",
       "        text-align: right;\n",
       "    }\n",
       "</style>\n",
       "<table border=\"1\" class=\"dataframe\">\n",
       "  <thead>\n",
       "    <tr style=\"text-align: right;\">\n",
       "      <th></th>\n",
       "      <th>0</th>\n",
       "      <th>1</th>\n",
       "      <th>2</th>\n",
       "      <th>3</th>\n",
       "      <th>4</th>\n",
       "      <th>5</th>\n",
       "      <th>6</th>\n",
       "      <th>7</th>\n",
       "      <th>8</th>\n",
       "      <th>9</th>\n",
       "      <th>10</th>\n",
       "      <th>11</th>\n",
       "      <th>12</th>\n",
       "      <th>13</th>\n",
       "      <th>14</th>\n",
       "    </tr>\n",
       "  </thead>\n",
       "  <tbody>\n",
       "    <tr>\n",
       "      <th>0</th>\n",
       "      <td>GEOID</td>\n",
       "      <td>SUMLEV</td>\n",
       "      <td>STATE</td>\n",
       "      <td>COUNTY</td>\n",
       "      <td>CBSA</td>\n",
       "      <td>CSA</td>\n",
       "      <td>NECTA</td>\n",
       "      <td>CNECTA</td>\n",
       "      <td>NAME</td>\n",
       "      <td>POP100</td>\n",
       "      <td>HU100</td>\n",
       "      <td>POP100.2000</td>\n",
       "      <td>HU100.2000</td>\n",
       "      <td>P001001</td>\n",
       "      <td>P001001.2000</td>\n",
       "    </tr>\n",
       "    <tr>\n",
       "      <th>1</th>\n",
       "      <td>24</td>\n",
       "      <td>040</td>\n",
       "      <td>24</td>\n",
       "      <td>NaN</td>\n",
       "      <td>NaN</td>\n",
       "      <td>NaN</td>\n",
       "      <td>NaN</td>\n",
       "      <td>NaN</td>\n",
       "      <td>Maryland</td>\n",
       "      <td>5773552</td>\n",
       "      <td>2378814</td>\n",
       "      <td>5296486</td>\n",
       "      <td>2145283</td>\n",
       "      <td>5773552</td>\n",
       "      <td>5296486</td>\n",
       "    </tr>\n",
       "  </tbody>\n",
       "</table>\n",
       "</div>"
      ],
      "text/plain": [
       "      0       1      2       3     4    5      6       7         8        9   \\\n",
       "0  GEOID  SUMLEV  STATE  COUNTY  CBSA  CSA  NECTA  CNECTA      NAME   POP100   \n",
       "1     24     040     24     NaN   NaN  NaN    NaN     NaN  Maryland  5773552   \n",
       "\n",
       "        10           11          12       13            14  \n",
       "0    HU100  POP100.2000  HU100.2000  P001001  P001001.2000  \n",
       "1  2378814      5296486     2145283  5773552       5296486  "
      ]
     },
     "execution_count": 3,
     "metadata": {},
     "output_type": "execute_result"
    }
   ],
   "source": [
    "df.head()"
   ]
  },
  {
   "cell_type": "code",
   "execution_count": null,
   "metadata": {},
   "outputs": [],
   "source": []
  }
 ],
 "metadata": {
  "kernelspec": {
   "display_name": "Python 3",
   "language": "python",
   "name": "python3"
  },
  "language_info": {
   "codemirror_mode": {
    "name": "ipython",
    "version": 3
   },
   "file_extension": ".py",
   "mimetype": "text/x-python",
   "name": "python",
   "nbconvert_exporter": "python",
   "pygments_lexer": "ipython3",
   "version": "3.8.3"
  }
 },
 "nbformat": 4,
 "nbformat_minor": 4
}
